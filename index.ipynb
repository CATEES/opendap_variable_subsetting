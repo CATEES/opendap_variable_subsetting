{
 "cells": [
  {
   "cell_type": "markdown",
   "metadata": {
    "ein.tags": [
     "worksheet-0"
    ]
   },
   "source": [
    "<p style=\"float:right\">\n",
    "<img src=\"nasa.png\" style=\"display:inline\" />\n",
    "</p>\n",
    "\n",
    "# Variable Subsetting with OPeNDAP"
   ]
  },
  {
   "cell_type": "markdown",
   "metadata": {
    "ein.tags": [
     "worksheet-0"
    ]
   },
   "source": [
    "For this demonstration, we will examine the [_MEaSUREs Northern Hemisphere Terrestrial Snow Cover Extent Daily 25km EASE-Grid 2.0_](http://nsidc.org/data/docs/measures/nsidc-0530/) dataset from the [NASA MEaSUREs project](https://earthdata.nasa.gov/community/community-data-system-programs/measures-projects). This dataset is managed by [NSIDC DAAC](http://nsidc.org/data/measures/) and made available via, among other methods, the [OPeNDAP](https://en.wikipedia.org/wiki/OPeNDAP) protocol."
   ]
  },
  {
   "cell_type": "markdown",
   "metadata": {},
   "source": [
    "### Basic data access with OPeNDAP"
   ]
  },
  {
   "cell_type": "markdown",
   "metadata": {},
   "source": [
    "The Python `netCDF4` package provides an OPeNDAP client, and we use it here to access snow-cover data from January 1, 2012:"
   ]
  },
  {
   "cell_type": "code",
   "execution_count": null,
   "metadata": {
    "autoscroll": "json-false",
    "collapsed": false,
    "ein.tags": [
     "worksheet-0"
    ]
   },
   "outputs": [],
   "source": [
    "import netCDF4\n",
    "\n",
    "url0 = (\n",
    "    'http://n5eil01u.ecs.nsidc.org:80/opendap/'\n",
    "    'MEASURES/NSIDC-0530.001/2012.01.01/nhtsd25e2_20120101_v01r01.nc'\n",
    ")\n",
    "\n",
    "dataset0 = netCDF4.Dataset(url0)"
   ]
  },
  {
   "cell_type": "markdown",
   "metadata": {},
   "source": [
    "Among many other pieces of metadata, we can inspect the dataset's title to ensure we have what we want:"
   ]
  },
  {
   "cell_type": "code",
   "execution_count": null,
   "metadata": {
    "autoscroll": "json-false",
    "collapsed": false,
    "ein.tags": [
     "worksheet-0"
    ]
   },
   "outputs": [],
   "source": [
    "dataset0.title"
   ]
  },
  {
   "cell_type": "markdown",
   "metadata": {
    "ein.tags": [
     "worksheet-0"
    ]
   },
   "source": [
    "We can examine the dataset's `variables` attribute to see the names of the attributes containing the actual snow-cover and associated spatio-temporal data:"
   ]
  },
  {
   "cell_type": "code",
   "execution_count": null,
   "metadata": {
    "autoscroll": "json-false",
    "collapsed": false,
    "ein.tags": [
     "worksheet-0"
    ],
    "scrolled": true
   },
   "outputs": [],
   "source": [
    "for variable in dataset0.variables:\n",
    "    print(variable)"
   ]
  },
  {
   "cell_type": "markdown",
   "metadata": {},
   "source": [
    "### Subsetting data by variable with OPeNDAP"
   ]
  },
  {
   "cell_type": "markdown",
   "metadata": {
    "ein.tags": [
     "worksheet-0"
    ]
   },
   "source": [
    "A valuable feature of OPeNDAP is its ability to subset data prior to download, to avoid unnecessary storage and transfer costs.\n",
    "\n",
    "The [OPeNDAP Server Dataset Access Form](http://n5eil01u.ecs.nsidc.org/opendap/MEASURES/NSIDC-0530.001/2012.01.01/nhtsd25e2_20120101_v01r01.nc.html) gives some subsetting guidance. As selections are made in the form, the displayed _Data URL_ is updated to reflect the necessary changes to the OPeNDAP query.\n",
    "\n",
    "Let's restrict our query to the three variables _Latitude_, _Longitude_ and _Merged Snow Cover Extent_. On the form, when we tick the associated checkboxes **latitude**, **longitude**, and **merged_snow_cover_extent**, the _Data URL_ field is updated based on these selections.\n",
    "\n",
    "To subset by variable, we simply update our OPeNDAP query with the new _Data URL_:"
   ]
  },
  {
   "cell_type": "code",
   "execution_count": null,
   "metadata": {
    "autoscroll": "json-false",
    "collapsed": false,
    "ein.tags": [
     "worksheet-0"
    ]
   },
   "outputs": [],
   "source": [
    "url1 = (\n",
    "    'http://n5eil01u.ecs.nsidc.org:80/opendap/'\n",
    "    'MEASURES/NSIDC-0530.001/2012.01.01/nhtsd25e2_20120101_v01r01.nc?'\n",
    "    'latitude[0:1:719][0:1:719],'\n",
    "    'longitude[0:1:719][0:1:719],'\n",
    "    'merged_snow_cover_extent[0:1:0][0:1:719][0:1:719]'\n",
    ")\n",
    "\n",
    "dataset1 = netCDF4.Dataset(url1)\n",
    "\n",
    "for variable in dataset1.variables:\n",
    "    print(variable)"
   ]
  },
  {
   "cell_type": "markdown",
   "metadata": {
    "ein.tags": [
     "worksheet-0"
    ]
   },
   "source": [
    "This mechanism could be abstracted in a function parametrized to, for example, obtain a time series variable subset.\n",
    "\n",
    "Note that the bounds expressions (e.g. `[0:1:719]`) shown in the URL are defaults that request the variable arrays in their entirety. We can verify that the array shapes agree with these expressions:"
   ]
  },
  {
   "cell_type": "code",
   "execution_count": null,
   "metadata": {
    "collapsed": false
   },
   "outputs": [],
   "source": [
    "for v in ['latitude', 'longitude', 'merged_snow_cover_extent']: \n",
    "    print(dataset1.variables[v].shape)"
   ]
  },
  {
   "cell_type": "markdown",
   "metadata": {},
   "source": [
    "Since we are requesting complete arrays, the bounds expressions could just as well have been omitted. The notebook _Geographical Subsetting with OPeNDAP_ demonstrates how these bounds expressions can be used to limit data to a certain geographical area."
   ]
  },
  {
   "cell_type": "markdown",
   "metadata": {},
   "source": [
    "### Displaying data"
   ]
  },
  {
   "cell_type": "markdown",
   "metadata": {},
   "source": [
    "Let's do a quick, geolocated plot of our snow-cover data.\n",
    "\n",
    "Our dataset contains helpful documentation on its variables, and we can examine `merged_snow_cover_extent` to see what values this variable takes on, and how to intepret them:"
   ]
  },
  {
   "cell_type": "code",
   "execution_count": null,
   "metadata": {
    "collapsed": false
   },
   "outputs": [],
   "source": [
    "dataset1.variables['merged_snow_cover_extent']"
   ]
  },
  {
   "cell_type": "markdown",
   "metadata": {},
   "source": [
    "So, values the the range 10 to 16, inclusive, represent snow cover, and 30 represents ice-covered land.\n",
    "\n",
    "Let's plot an Arctic basemap and, on top of it, cyan points where our dataset indicates that snow was present, and blue for ice."
   ]
  },
  {
   "cell_type": "code",
   "execution_count": null,
   "metadata": {
    "collapsed": false
   },
   "outputs": [],
   "source": [
    "%matplotlib inline\n",
    "\n",
    "from mpl_toolkits.basemap import Basemap\n",
    "import matplotlib.pyplot as plt\n",
    "import numpy as np\n",
    "\n",
    "def snow_ice_plot(snow_ice_map, lat, lon, condition, color, size=1):\n",
    "    row, col = np.where(condition)\n",
    "    x, y = snow_ice_map(lon[row, col], lat[row, col])\n",
    "    snow_ice_map.scatter(x, y, s=size, color=color)\n",
    "\n",
    "lat0 = dataset1.variables['latitude'][:, :]\n",
    "lon0 = dataset1.variables['longitude'][:, :]\n",
    "msce_jan = dataset1.variables['merged_snow_cover_extent'][0, :, :]\n",
    "\n",
    "plt.figure(figsize=(10, 10))\n",
    "snow_ice_jan = Basemap(projection='npstere', boundinglat=45, lon_0=300)\n",
    "snow_ice_jan.drawcoastlines()\n",
    "\n",
    "snow_ice_plot(snow_ice_jan, lat0, lon0, (msce_jan >= 10) & (msce_jan <= 16), 'Cyan')\n",
    "snow_ice_plot(snow_ice_jan, lat0, lon0, msce_jan == 30, 'Blue')"
   ]
  },
  {
   "cell_type": "markdown",
   "metadata": {},
   "source": [
    "### Using a data-access class"
   ]
  },
  {
   "cell_type": "markdown",
   "metadata": {},
   "source": [
    "As a simplification, we can make use of a prebuilt Pyhton class, `NSIDC0530`, to access remote data. The class constructor takes year, date and month arguments, as well as an optional list of desired variables. (Note that the `latitude` and `longitude` variables are provided with the class and need not be requested.)\n",
    "\n",
    "Here, we request the `merged_snow_cover_extent` data for June 1, 2012, then plot it with code otherwise nearly identical to that used in the previous example:"
   ]
  },
  {
   "cell_type": "code",
   "execution_count": null,
   "metadata": {
    "collapsed": false
   },
   "outputs": [],
   "source": [
    "from nsidc0530.interface import NSIDC0530\n",
    "\n",
    "june_data = NSIDC0530(2012, 6, 1, ['merged_snow_cover_extent'])\n",
    "\n",
    "lat1 = june_data.latitude\n",
    "lon1 = june_data.longitude\n",
    "msce_jun = june_data.merged_snow_cover_extent\n",
    "\n",
    "plt.figure(figsize=(10, 10))\n",
    "snow_ice_jun = Basemap(projection='npstere', boundinglat=45, lon_0=300)\n",
    "snow_ice_jun.drawcoastlines()\n",
    "\n",
    "snow_ice_plot(snow_ice_jun, lat1, lon1, (msce_jun >= 10) & (msce_jun <= 16), 'Cyan')\n",
    "snow_ice_plot(snow_ice_jun, lat1, lon1, msce_jun == 30, 'Blue')"
   ]
  }
 ],
 "metadata": {
  "anaconda-cloud": {},
  "kernelspec": {
   "display_name": "Python 3",
   "language": "python",
   "name": "python3"
  },
  "language_info": {
   "codemirror_mode": {
    "name": "ipython",
    "version": 3
   },
   "file_extension": ".py",
   "mimetype": "text/x-python",
   "name": "python",
   "nbconvert_exporter": "python",
   "pygments_lexer": "ipython3",
   "version": "3.5.2"
  },
  "name": "module-2.ipynb"
 },
 "nbformat": 4,
 "nbformat_minor": 0
}
